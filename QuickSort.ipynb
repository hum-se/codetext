{
 "cells": [
  {
   "cell_type": "code",
   "execution_count": 4,
   "metadata": {
    "collapsed": true
   },
   "outputs": [],
   "source": [
    "import numpy as np"
   ]
  },
  {
   "cell_type": "code",
   "execution_count": 39,
   "metadata": {
    "collapsed": false
   },
   "outputs": [
    {
     "name": "stdout",
     "output_type": "stream",
     "text": [
      "[12, 15, 17, 20, 20, 30, 45]\n"
     ]
    }
   ],
   "source": [
    "def Partition(A,p,r):\n",
    "    i=p-1\n",
    "    j=p\n",
    "    pivotIndex=np.random.randint(p,r)\n",
    "    A[pivotIndex], A[r] = A[r], A[pivotIndex]\n",
    "    \n",
    "    while j<=r:\n",
    "        if A[j]>A[r]: \n",
    "            j+=1\n",
    "        else:\n",
    "            i+=1\n",
    "            A[i],A[j]=A[j],A[i]\n",
    "            j+=1\n",
    "    return i\n",
    "\n",
    "def quickSort(A,p,r):\n",
    "    if p<r:\n",
    "        q=Partition(A,p,r)\n",
    "        quickSort(A,p,q-1)\n",
    "        quickSort(A,q+1,r)\n",
    "    \n",
    "A=[45, 20, 30, 15, 20, 12, 17]\n",
    "quickSort(A,0,6)\n",
    "#q=Partition(A,0,6)\n",
    "#print(q)\n",
    "print(A)\n",
    "            \n",
    "            \n",
    "            "
   ]
  },
  {
   "cell_type": "code",
   "execution_count": 25,
   "metadata": {
    "collapsed": false
   },
   "outputs": [
    {
     "name": "stdout",
     "output_type": "stream",
     "text": [
      "17\n",
      "[[0, 45], [1, 20], [2, 30], [3, 15], [4, 20], [5, 12], [6, 17]]\n"
     ]
    }
   ],
   "source": [
    "A=[45, 20, 30, 15, 20, 12, 17]\n",
    "print(A[-1])\n",
    "\n",
    "c=[[a,b] for a,b in enumerate(A)]\n",
    "print(c)\n"
   ]
  }
 ],
 "metadata": {
  "anaconda-cloud": {},
  "kernelspec": {
   "display_name": "Python [conda root]",
   "language": "python",
   "name": "conda-root-py"
  },
  "language_info": {
   "codemirror_mode": {
    "name": "ipython",
    "version": 3
   },
   "file_extension": ".py",
   "mimetype": "text/x-python",
   "name": "python",
   "nbconvert_exporter": "python",
   "pygments_lexer": "ipython3",
   "version": "3.5.2"
  }
 },
 "nbformat": 4,
 "nbformat_minor": 1
}
