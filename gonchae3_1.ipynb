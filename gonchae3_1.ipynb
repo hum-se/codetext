{
 "cells": [
  {
   "cell_type": "code",
   "execution_count": 1,
   "metadata": {},
   "outputs": [],
   "source": [
    "import numpy as np"
   ]
  },
  {
   "cell_type": "code",
   "execution_count": 2,
   "metadata": {
    "scrolled": true
   },
   "outputs": [
    {
     "name": "stdout",
     "output_type": "stream",
     "text": [
      "n을 입력하세요.16\n",
      "t를 입력하세요.16\n",
      "m을 입력하세요.2\n",
      "p를 입력하세요.2\n",
      "16 16 2 2\n"
     ]
    }
   ],
   "source": [
    "while True:\n",
    "    n=int(input('n을 입력하세요.'))\n",
    "    t=int(input('t를 입력하세요.'))\n",
    "    m=int(input('m을 입력하세요.'))\n",
    "    p=int(input('p를 입력하세요.'))\n",
    "    if n>=0 and n<=16 and t>=0 and t<=1000 and m>=2 and m<=100 and p>=1 and p<=m:\n",
    "        break\n",
    "        \n",
    "\n",
    "print(n,t,m,p)"
   ]
  },
  {
   "cell_type": "code",
   "execution_count": 3,
   "metadata": {},
   "outputs": [],
   "source": [
    "def de2N(de,n):\n",
    "    to_N=[]\n",
    "    while de>=n:\n",
    "        mod=np.mod(de,n)\n",
    "        if mod>=10:\n",
    "            to_N+=[chr(ord('A')+mod-10)]\n",
    "        else:\n",
    "            to_N+=[mod]\n",
    "        de=int(de/n)\n",
    "    if de>=10:\n",
    "        to_N+=[chr(ord('A')+de-10)]\n",
    "    else:\n",
    "        to_N+=[de]\n",
    "\n",
    "    to_N=to_N[::-1]\n",
    "    return to_N\n",
    "          "
   ]
  },
  {
   "cell_type": "code",
   "execution_count": 4,
   "metadata": {},
   "outputs": [],
   "source": [
    "def stream(n,t,m,p):\n",
    "    de=0\n",
    "    tube=[]\n",
    "    tuebe_talk=[]\n",
    "    while True:\n",
    "        tube+=de2N(de,n)\n",
    "        tube_talk=tube[p-1:p+m*(t-1):m]\n",
    "        de+=1\n",
    "        if len(tube_talk)>=t:\n",
    "            break     \n",
    "    print(tube_talk)\n"
   ]
  },
  {
   "cell_type": "code",
   "execution_count": 5,
   "metadata": {
    "scrolled": true
   },
   "outputs": [
    {
     "name": "stdout",
     "output_type": "stream",
     "text": [
      "[1, 3, 5, 7, 9, 'B', 'D', 'F', 0, 1, 2, 3, 4, 5, 6, 7]\n"
     ]
    }
   ],
   "source": [
    "stream(n,t,m,p)"
   ]
  },
  {
   "cell_type": "code",
   "execution_count": 6,
   "metadata": {},
   "outputs": [
    {
     "name": "stdout",
     "output_type": "stream",
     "text": [
      "65\n",
      "A\n"
     ]
    }
   ],
   "source": [
    "print(ord('A'))\n",
    "print(chr(65))"
   ]
  },
  {
   "cell_type": "code",
   "execution_count": 7,
   "metadata": {},
   "outputs": [],
   "source": [
    "def de2N(de,n):\n",
    "    to_N=[]\n",
    "    while de>=n:\n",
    "        mod=np.mod(de,n)\n",
    "        if mod==10:\n",
    "            to_N+=['A']\n",
    "        elif mod==11:\n",
    "            to_N+=['B']\n",
    "        elif mod==12:\n",
    "            to_N+=['C']\n",
    "        elif mod==13:\n",
    "            to_N+=['D']\n",
    "        elif mod==14:\n",
    "            to_N+=['E']\n",
    "        elif mod==15:\n",
    "            to_N+=['F']\n",
    "        else:\n",
    "            to_N+=[mod]\n",
    "        de=int(de/n)\n",
    "    if de==10:\n",
    "        to_N+=['A']\n",
    "    elif de==11:\n",
    "        to_N+=['B']\n",
    "    elif de==12:\n",
    "        to_N+=['C']\n",
    "    elif de==13:\n",
    "        to_N+=['D']\n",
    "    elif de==14:\n",
    "        to_N+=['E']\n",
    "    elif de==15:\n",
    "        to_N+=['F']\n",
    "    else:\n",
    "        to_N+=[de]\n",
    "\n",
    "    to_N=to_N[::-1]\n",
    "    return to_N\n",
    "          "
   ]
  },
  {
   "cell_type": "code",
   "execution_count": null,
   "metadata": {},
   "outputs": [],
   "source": []
  }
 ],
 "metadata": {
  "kernelspec": {
   "display_name": "Python 3",
   "language": "python",
   "name": "python3"
  },
  "language_info": {
   "codemirror_mode": {
    "name": "ipython",
    "version": 3
   },
   "file_extension": ".py",
   "mimetype": "text/x-python",
   "name": "python",
   "nbconvert_exporter": "python",
   "pygments_lexer": "ipython3",
   "version": "3.7.0"
  }
 },
 "nbformat": 4,
 "nbformat_minor": 2
}
