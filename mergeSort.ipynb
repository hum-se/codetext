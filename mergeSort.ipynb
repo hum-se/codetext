{
 "cells": [
  {
   "cell_type": "code",
   "execution_count": 5,
   "metadata": {
    "collapsed": false
   },
   "outputs": [
    {
     "name": "stdout",
     "output_type": "stream",
     "text": [
      "[2, 6, 8, 10, 12, 63, 63]\n"
     ]
    }
   ],
   "source": [
    "def mergeSort(x):\n",
    "    if len(x) > 1:\n",
    "        mid = len(x)//2\n",
    "        lx, rx = x[:mid], x[mid:]\n",
    "        mergeSort(lx)\n",
    "        mergeSort(rx)\n",
    "\n",
    "        li, ri, i = 0, 0, 0\n",
    "        while li < len(lx) and ri < len(rx):\n",
    "            if lx[li] < rx[ri]:\n",
    "                x[i] = lx[li]\n",
    "                li += 1\n",
    "            else:\n",
    "                x[i] = rx[ri]\n",
    "                ri += 1\n",
    "            i += 1\n",
    "        if li != len(lx):\n",
    "            x[i:] = lx[li:]\n",
    "        else:\n",
    "            x[i:] = rx[ri:]\n",
    "\n",
    "x=[10,8,2,6,63,12,63]\n",
    "mergeSort(x)\n",
    "print(x)"
   ]
  },
  {
   "cell_type": "code",
   "execution_count": null,
   "metadata": {
    "collapsed": true
   },
   "outputs": [],
   "source": []
  }
 ],
 "metadata": {
  "anaconda-cloud": {},
  "kernelspec": {
   "display_name": "Python [conda root]",
   "language": "python",
   "name": "conda-root-py"
  },
  "language_info": {
   "codemirror_mode": {
    "name": "ipython",
    "version": 3
   },
   "file_extension": ".py",
   "mimetype": "text/x-python",
   "name": "python",
   "nbconvert_exporter": "python",
   "pygments_lexer": "ipython3",
   "version": "3.5.2"
  }
 },
 "nbformat": 4,
 "nbformat_minor": 1
}
