{
 "cells": [
  {
   "cell_type": "code",
   "execution_count": 67,
   "metadata": {
    "collapsed": false
   },
   "outputs": [
    {
     "name": "stdout",
     "output_type": "stream",
     "text": [
      "10 3\n",
      "1 4 1 5 9 2 6 5 3 5\n"
     ]
    }
   ],
   "source": [
    "import numpy as np\n",
    "\n",
    "\n",
    "while True:\n",
    "    N,K=map(int,input().split())\n",
    "    N_num=input().split()\n",
    "    if N<=500 and N>=1 and K<=N and K>=1 and len(N_num)==int(N):\n",
    "        break\n",
    "    print('N은 1이상 500이하의 정수이고, K는 1이상 N이하의 정수입니다. 두 번째 줄에는 N개의 정수가 입력되어야합니다.')"
   ]
  },
  {
   "cell_type": "code",
   "execution_count": 71,
   "metadata": {
    "collapsed": false
   },
   "outputs": [
    {
     "name": "stdout",
     "output_type": "stream",
     "text": [
      "0.942809041582\n"
     ]
    }
   ],
   "source": [
    "N_num=[int(i) for i in N_num]\n",
    "var_vector=[]\n",
    "for i in range(N-K+1):\n",
    "    var_vector+=[np.sqrt(np.var(N_num[i:i+K]))]\n",
    "print(np.min(var_vector))"
   ]
  },
  {
   "cell_type": "code",
   "execution_count": 54,
   "metadata": {
    "collapsed": false
   },
   "outputs": [
    {
     "name": "stdout",
     "output_type": "stream",
     "text": [
      "3.0\n"
     ]
    }
   ],
   "source": [
    "N_num=[int(i) for i in N_num]\n",
    "sum=0\n",
    "for i in range(N):\n",
    "    sum+=N_num[i]\n",
    "    \n",
    "m=sum/N\n",
    "print(m)"
   ]
  }
 ],
 "metadata": {
  "anaconda-cloud": {},
  "kernelspec": {
   "display_name": "Python [conda root]",
   "language": "python",
   "name": "conda-root-py"
  },
  "language_info": {
   "codemirror_mode": {
    "name": "ipython",
    "version": 3
   },
   "file_extension": ".py",
   "mimetype": "text/x-python",
   "name": "python",
   "nbconvert_exporter": "python",
   "pygments_lexer": "ipython3",
   "version": "3.5.2"
  }
 },
 "nbformat": 4,
 "nbformat_minor": 1
}
