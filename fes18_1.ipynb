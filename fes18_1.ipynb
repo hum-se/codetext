{
 "cells": [
  {
   "cell_type": "code",
   "execution_count": 41,
   "metadata": {
    "collapsed": false
   },
   "outputs": [
    {
     "name": "stdout",
     "output_type": "stream",
     "text": [
      "4\n",
      "8 4\n",
      "[['8', '4']]\n",
      "13 19\n",
      "[['8', '4'], ['13', '19']]\n",
      "8 10\n",
      "[['8', '4'], ['13', '19'], ['8', '10']]\n",
      "18 18\n",
      "[['8', '4'], ['13', '19'], ['8', '10'], ['18', '18']]\n"
     ]
    }
   ],
   "source": [
    "import numpy as np\n",
    "\n",
    "\n",
    "fes_1=np.zeros(100)\n",
    "fes_2=np.zeros(100)\n",
    "\n",
    "fes1_award=[500,300,200,50,30,10]\n",
    "ranking=0\n",
    "for i in range(1,len(fes1_award)+1):\n",
    "    for j in range(i):\n",
    "        fes_1[ranking]+=[fes1_award[i-1]]\n",
    "        ranking+=1\n",
    "    \n",
    "ranking=0\n",
    "fes2_award=[512,256,128,64,32]\n",
    "for i in range(len(fes2_award)):\n",
    "    for j in range(2**i):\n",
    "        fes_2[ranking]+=[fes2_award[i]]\n",
    "        ranking+=1\n",
    "            \n",
    "T=int(input())\n",
    "A=[]\n",
    "for i in range(T):\n",
    "    A1=input().split()\n",
    "    A+=[A1]\n",
    "    print(A)\n",
    "    "
   ]
  },
  {
   "cell_type": "code",
   "execution_count": 47,
   "metadata": {
    "collapsed": false
   },
   "outputs": [
    {
     "name": "stdout",
     "output_type": "stream",
     "text": [
      "1780000.0\n",
      "620000.0\n",
      "1140000.0\n",
      "420000.0\n"
     ]
    }
   ],
   "source": [
    "def award(a):\n",
    "    for i in range(len(a)):\n",
    "        sum1=fes_1[int(a[i][0])-1]\n",
    "        sum2=fes_2[int(a[i][1])-1]\n",
    "        print((sum1+sum2)*10000)\n",
    "    \n",
    "award(A)"
   ]
  }
 ],
 "metadata": {
  "anaconda-cloud": {},
  "kernelspec": {
   "display_name": "Python [conda root]",
   "language": "python",
   "name": "conda-root-py"
  },
  "language_info": {
   "codemirror_mode": {
    "name": "ipython",
    "version": 3
   },
   "file_extension": ".py",
   "mimetype": "text/x-python",
   "name": "python",
   "nbconvert_exporter": "python",
   "pygments_lexer": "ipython3",
   "version": "3.5.2"
  }
 },
 "nbformat": 4,
 "nbformat_minor": 1
}
