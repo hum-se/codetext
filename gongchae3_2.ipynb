{
 "cells": [
  {
   "cell_type": "code",
   "execution_count": 1,
   "metadata": {},
   "outputs": [
    {
     "name": "stdout",
     "output_type": "stream",
     "text": [
      "['A', 'B', 'AB', 'ABA', 'BA', 'BAB', 'ABAB']\n",
      "[1, 2, 27, 29, 28, 31, 30]\n"
     ]
    }
   ],
   "source": [
    "index=['A','B','C','D','E','F','G','H','I','J','K','L','M','N','O','P','Q','R','S','T','U','V','W','X','Y','Z']\n",
    "\n",
    "msg='ABABABABABABABAB'\n",
    "\n",
    "\n",
    "answer=[]\n",
    "i=0\n",
    "while i<len(msg)-1:\n",
    "    j=0\n",
    "    new_idx=''\n",
    "    while j<len(msg)-i:\n",
    "        new_idx+=msg[i+j]\n",
    "        j+=1\n",
    "        if new_idx not in index:\n",
    "            index+=[new_idx]\n",
    "            answer+=[new_idx[:-1]]\n",
    "            i+=(j-1)\n",
    "            break\n",
    "        elif i+len(new_idx)==len(msg):\n",
    "            answer+=[new_idx]\n",
    "            i+=(j-1)\n",
    "            break\n",
    "\n",
    "print(answer)\n",
    "answer_idx=[]\n",
    "\n",
    "for j in answer:\n",
    "    for idx,i in enumerate(index):\n",
    "        if j==i:\n",
    "            answer_idx+=[idx+1]\n",
    "            \n",
    "\n",
    "print(answer_idx)\n",
    "        \n",
    "    \n",
    "    "
   ]
  },
  {
   "cell_type": "code",
   "execution_count": null,
   "metadata": {},
   "outputs": [],
   "source": []
  }
 ],
 "metadata": {
  "kernelspec": {
   "display_name": "Python 3",
   "language": "python",
   "name": "python3"
  },
  "language_info": {
   "codemirror_mode": {
    "name": "ipython",
    "version": 3
   },
   "file_extension": ".py",
   "mimetype": "text/x-python",
   "name": "python",
   "nbconvert_exporter": "python",
   "pygments_lexer": "ipython3",
   "version": "3.7.0"
  }
 },
 "nbformat": 4,
 "nbformat_minor": 2
}
