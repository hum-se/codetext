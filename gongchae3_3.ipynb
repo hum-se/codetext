{
 "cells": [
  {
   "cell_type": "code",
   "execution_count": 1,
   "metadata": {},
   "outputs": [],
   "source": [
    "import numpy as np\n",
    "from operator import itemgetter, attrgetter, methodcaller"
   ]
  },
  {
   "cell_type": "code",
   "execution_count": 2,
   "metadata": {},
   "outputs": [
    {
     "name": "stdout",
     "output_type": "stream",
     "text": [
      "['A-10 Thunderbolt II', 'B-50 Superfortress', 'F-5 Freedom Fighter', 'F-14 Tomcat']\n"
     ]
    }
   ],
   "source": [
    "#files=['img12.png', 'img10.png', 'img02.png', 'img1.png', 'IMG01.GIF', 'img2.JPG']\n",
    "files=['F-5 Freedom Fighter', 'B-50 Superfortress', 'A-10 Thunderbolt II', 'F-14 Tomcat']\n",
    "def partition(files):\n",
    "    sort_file2=[]\n",
    "    for index, i in enumerate(files):\n",
    "        sort_file=[]\n",
    "        head=''\n",
    "        for idx, j in enumerate(i):\n",
    "            if (ord(j)<=122 and ord(j)>=97) or ord(j)==45 or (ord(j)<=90 and ord(j)>=65): \n",
    "                head+=j\n",
    "            else:\n",
    "                break\n",
    "        sort_file+=[head]\n",
    "        \n",
    "        numb=''\n",
    "        tail=''\n",
    "        for j in i[idx:]:\n",
    "            if ord(j)<=57 and ord(j)>=48:\n",
    "                numb+=j\n",
    "            else:\n",
    "                tail+=j\n",
    "        sort_file+=[int(numb)]\n",
    "        sort_file+=[tail]\n",
    "        sort_file2+=[[sort_file, index]]\n",
    "    s=sorted(sort_file2,key=itemgetter(0,1))\n",
    "    sort_finish=[]\n",
    "    for i in range(len(s)):\n",
    "        sort_finish+=[files[s[i][1]]]\n",
    "    return sort_finish\n",
    "\n",
    "\n",
    "s=partition(files)\n",
    "print(s)\n"
   ]
  },
  {
   "cell_type": "code",
   "execution_count": 3,
   "metadata": {},
   "outputs": [
    {
     "name": "stdout",
     "output_type": "stream",
     "text": [
      "[(124, ['124', 234]), (34, ['34', 147]), (31, ['31', 174])]\n"
     ]
    }
   ],
   "source": [
    "a = [['124', 234], ['34', 147], ['31', 174]]\n",
    "decorated = [(int(i[0]), i) for i in a]\n",
    "print(decorated)"
   ]
  },
  {
   "cell_type": "code",
   "execution_count": 4,
   "metadata": {},
   "outputs": [
    {
     "name": "stdout",
     "output_type": "stream",
     "text": [
      "[0, 5, 1, 6, 2, 7, 3, 8, 4, 9]\n"
     ]
    }
   ],
   "source": [
    "L = range(10)\n",
    "b=sorted(L, key=lambda x: x%5)\n",
    "print(b)"
   ]
  },
  {
   "cell_type": "code",
   "execution_count": 5,
   "metadata": {},
   "outputs": [
    {
     "data": {
      "text/plain": [
       "[('dave', 'B', 10), ('jane', 'B', 12), ('john', 'A', 15)]"
      ]
     },
     "execution_count": 5,
     "metadata": {},
     "output_type": "execute_result"
    }
   ],
   "source": [
    "class Student:\n",
    "        def __init__(self, name, grade, age):\n",
    "                self.name = name\n",
    "                self.grade = grade\n",
    "                self.age = age\n",
    "        def __repr__(self):\n",
    "                return repr((self.name, self.grade, self.age))\n",
    "        def weighted_grade(self):\n",
    "                return 'CBA'.index(self.grade) / float(self.age)\n",
    "\n",
    "student_objects = [\n",
    "        Student('john', 'A', 15),\n",
    "        Student('jane', 'B', 12),\n",
    "        Student('dave', 'B', 10),\n",
    "]\n",
    "sorted(student_objects, key=lambda student: student.age)   # sort by age"
   ]
  },
  {
   "cell_type": "code",
   "execution_count": null,
   "metadata": {},
   "outputs": [],
   "source": [
    "sorted(student_objects, key=attrgetter('grade', 'age'))"
   ]
  }
 ],
 "metadata": {
  "kernelspec": {
   "display_name": "Python 3",
   "language": "python",
   "name": "python3"
  },
  "language_info": {
   "codemirror_mode": {
    "name": "ipython",
    "version": 3
   },
   "file_extension": ".py",
   "mimetype": "text/x-python",
   "name": "python",
   "nbconvert_exporter": "python",
   "pygments_lexer": "ipython3",
   "version": "3.7.0"
  }
 },
 "nbformat": 4,
 "nbformat_minor": 2
}
